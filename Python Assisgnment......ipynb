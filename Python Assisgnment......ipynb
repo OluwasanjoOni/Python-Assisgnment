{
 "cells": [
  {
   "cell_type": "markdown",
   "id": "5961e286",
   "metadata": {},
   "source": [
    "# Python Assisgnment"
   ]
  },
  {
   "cell_type": "code",
   "execution_count": 47,
   "id": "4962c60c",
   "metadata": {},
   "outputs": [
    {
     "data": {
      "text/plain": [
       "[1001,\n",
       " 1036,\n",
       " 1071,\n",
       " 1106,\n",
       " 1141,\n",
       " 1176,\n",
       " 1211,\n",
       " 1246,\n",
       " 1281,\n",
       " 1316,\n",
       " 1351,\n",
       " 1386,\n",
       " 1421,\n",
       " 1456,\n",
       " 1491,\n",
       " 1526,\n",
       " 1561,\n",
       " 1596,\n",
       " 1631,\n",
       " 1666,\n",
       " 1701,\n",
       " 1736,\n",
       " 1771,\n",
       " 1806,\n",
       " 1841,\n",
       " 1876,\n",
       " 1911,\n",
       " 1946,\n",
       " 1981,\n",
       " 2016,\n",
       " 2051,\n",
       " 2086,\n",
       " 2121,\n",
       " 2156,\n",
       " 2191]"
      ]
     },
     "execution_count": 47,
     "metadata": {},
     "output_type": "execute_result"
    }
   ],
   "source": [
    "# Question 1. Write a program which will find all such numbers which are divisible by 7 but are not a multiple of 5, between\n",
    "# 1000 and 2200 (both included). The numbers obtained should be printed in a comma-separated sequence on a single line. \n",
    "\n",
    "# Steps\n",
    "#1. find the numbers between range 1000 and 2201\n",
    "#2. find the numbers in this range that are divisible by 7\n",
    "#3. pick up only the numbers that are not divisible by 5 from #2 above.\n",
    "\n",
    "answer = [i for i in range(1000, 2201) if i % 7 == 0 and i % 5 ==1]\n",
    "answer"
   ]
  },
  {
   "cell_type": "code",
   "execution_count": 2,
   "id": "2770e97a",
   "metadata": {},
   "outputs": [
    {
     "name": "stdout",
     "output_type": "stream",
     "text": [
      "Enter your first name: Oluwasanjo\n",
      "Enter your last name: ONI\n",
      "ONI Oluwasanjo\n"
     ]
    }
   ],
   "source": [
    "# Question 2 -  Write a Python program to accept the user's first and last name and then getting them printed \n",
    "# in the reverse order with a space between first name and last name. \n",
    "\n",
    "  # Steps\n",
    "  #1. Collect first name\n",
    "  #2. Collect last name\n",
    "  #3. Print names in reverse order with space in between\n",
    "\n",
    "firstname =input('Enter your first name: ')\n",
    "\n",
    "lastname =input('Enter your last name: ')\n",
    "         \n",
    "print(lastname + ' ' + firstname)"
   ]
  },
  {
   "cell_type": "code",
   "execution_count": 9,
   "id": "044b7cf0",
   "metadata": {},
   "outputs": [
    {
     "data": {
      "text/plain": [
       "[55, 55, 55, 55, 55]"
      ]
     },
     "execution_count": 9,
     "metadata": {},
     "output_type": "execute_result"
    }
   ],
   "source": [
    " #3. Write a program to take ten numbers from a user and display the minimum, mean, and maximum of the non-even numbers. \n",
    "    \n",
    "# Steps\n",
    "\n",
    "#1. Go through the numbers between range 1 and 11\n",
    "#2. Pick the non-even (old) numbers\n",
    "#3. Find their sum and length to get their mean\n",
    "#3. Also find the min. and max.\n",
    "\n",
    "T = range(1,11)\n",
    "T = [sum(T) for i in range(1,11) if i % 2 == 1]\n",
    "T"
   ]
  },
  {
   "cell_type": "code",
   "execution_count": 8,
   "id": "05d48839",
   "metadata": {},
   "outputs": [
    {
     "data": {
      "text/plain": [
       "[5.5, 5.5, 5.5, 5.5, 5.5]"
      ]
     },
     "execution_count": 8,
     "metadata": {},
     "output_type": "execute_result"
    }
   ],
   "source": [
    "T4 = [max(T) for i in range(1,11) if i % 2 ==1]\n",
    "T4"
   ]
  },
  {
   "cell_type": "code",
   "execution_count": 33,
   "id": "6c65e50b",
   "metadata": {},
   "outputs": [
    {
     "data": {
      "text/plain": [
       "[1, 1, 1, 1, 1]"
      ]
     },
     "execution_count": 33,
     "metadata": {},
     "output_type": "execute_result"
    }
   ],
   "source": [
    "T5 = [min(T) for i in range(1,11) if i % 2 ==1]\n",
    "T5"
   ]
  },
  {
   "cell_type": "code",
   "execution_count": null,
   "id": "6c1327ed",
   "metadata": {},
   "outputs": [],
   "source": []
  }
 ],
 "metadata": {
  "kernelspec": {
   "display_name": "Python 3 (ipykernel)",
   "language": "python",
   "name": "python3"
  },
  "language_info": {
   "codemirror_mode": {
    "name": "ipython",
    "version": 3
   },
   "file_extension": ".py",
   "mimetype": "text/x-python",
   "name": "python",
   "nbconvert_exporter": "python",
   "pygments_lexer": "ipython3",
   "version": "3.9.12"
  }
 },
 "nbformat": 4,
 "nbformat_minor": 5
}
